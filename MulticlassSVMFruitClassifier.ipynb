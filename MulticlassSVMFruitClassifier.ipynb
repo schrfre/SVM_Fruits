{
 "cells": [
  {
   "cell_type": "markdown",
   "id": "10b44585",
   "metadata": {},
   "source": [
    "# Multiclass SVM\n",
    "Unter der Verwendung des *One to Rest Approaches*\n",
    "\n",
    "https://www.baeldung.com/cs/svm-multiclass-classification\n",
    "\n",
    "Horea Muresan, Mihai Oltean, Fruit recognition from images using deep learning, Acta Univ. Sapientiae, Informatica Vol. 10, Issue 1, pp. 26-42, 2018.\n"
   ]
  },
  {
   "cell_type": "code",
   "execution_count": 12,
   "id": "b2baa980",
   "metadata": {},
   "outputs": [],
   "source": [
    "# Datenverarbeitung und Dateioperationen\n",
    "import glob\n",
    "import os\n",
    "import cv2\n",
    "\n",
    "# Wissenschaftliche Berechnungen und Hilfsfunktionen\n",
    "import numpy as np\n",
    "import matplotlib.pyplot as plt\n",
    "\n",
    "# Maschinelles Lernen und Modellierung\n",
    "from sklearn.preprocessing import StandardScaler\n",
    "from sklearn.svm import SVC\n",
    "from sklearn.model_selection import RandomizedSearchCV\n",
    "\n",
    "# Leistungsbewertung\n",
    "from sklearn.metrics import classification_report, accuracy_score, f1_score, confusion_matrix"
   ]
  },
  {
   "cell_type": "code",
   "execution_count": 2,
   "id": "6d71fd95",
   "metadata": {},
   "outputs": [],
   "source": [
    "def getAllData(data_type, dim, print_summary=False):\n",
    "    images = []\n",
    "    labels = []\n",
    "\n",
    "    # Basispfad für das Verzeichnis der Daten\n",
    "    base_path = \"frutis_360/fruits-360_dataset/fruits-360/LessData/\"\n",
    "\n",
    "    # Funktion, um alle Unterordner (Datenkategorien) zu erhalten\n",
    "    def get_categories(path):\n",
    "        return [d for d in os.listdir(path) if os.path.isdir(os.path.join(path, d))]\n",
    "\n",
    "    categories = get_categories(os.path.join(base_path, data_type))\n",
    "    total_images = 0  \n",
    "\n",
    "    for i, category in enumerate(categories):\n",
    "        category_path = os.path.join(base_path, data_type, category)\n",
    "        for image_path in glob.glob(os.path.join(category_path, \"*.jpg\")):\n",
    "            image = cv2.imread(image_path, cv2.IMREAD_COLOR)\n",
    "            image = cv2.resize(image, (dim, dim))\n",
    "            image = cv2.cvtColor(image, cv2.COLOR_RGB2BGR)\n",
    "            images.append(image)\n",
    "            labels.append(i)\n",
    "            total_images += 1\n",
    "\n",
    "    if print_summary:\n",
    "        print(f\"Found {total_images} images belonging to {len(categories)} classes.\")\n",
    "\n",
    "    images = np.array(images)\n",
    "    labels = np.array(labels)\n",
    "    return images, labels"
   ]
  },
  {
   "cell_type": "code",
   "execution_count": 3,
   "id": "d443ca09",
   "metadata": {
    "scrolled": false
   },
   "outputs": [
    {
     "name": "stdout",
     "output_type": "stream",
     "text": [
      "Training: \n",
      "Found 41310 images belonging to 81 classes.\n",
      "Test: \n",
      "Found 13873 images belonging to 81 classes.\n"
     ]
    }
   ],
   "source": [
    "dim = 100\n",
    "\n",
    "# Abrufen der Daten für Training und Test, mit der Zusammenfassung\n",
    "print(\"Training: \")\n",
    "X_train, y_train = getAllData('Training', dim, print_summary=True)\n",
    "print(\"Test: \")\n",
    "X_test, y_test = getAllData('Test', dim, print_summary=True)"
   ]
  },
  {
   "cell_type": "code",
   "execution_count": 4,
   "id": "297be5a5",
   "metadata": {},
   "outputs": [],
   "source": [
    "#Skalierung der Daten\n",
    "scaler = StandardScaler()\n",
    "X_train = scaler.fit_transform([i.flatten() for i in X_train])\n",
    "X_test = scaler.fit_transform([i.flatten() for i in X_test])"
   ]
  },
  {
   "cell_type": "markdown",
   "id": "7f1e7219",
   "metadata": {},
   "source": [
    "## SVM - One-to-Rest\n",
    "Der One-to-Rest approach nutzt $m$ SVMs. Jede SVM wird eine der $m$ Klassen vorhersagen.\n",
    "- Hier sind es $m = 81$ SVMs\n",
    "\n",
    "\n",
    "Der One-to-One approach nutzt $\\frac{m (m-1)}{2}$ SVMs. Den jede Klasse wird zu einander in Relation gesetzt.\n",
    "- Hier sind es $\\frac{81 (81-1)}{2} = 3240$ SVMs die berechnet werden müssten."
   ]
  },
  {
   "cell_type": "markdown",
   "id": "d9bf14e7",
   "metadata": {},
   "source": [
    "Initialisieren des SVM-Klassifikatoren:"
   ]
  },
  {
   "cell_type": "code",
   "execution_count": 5,
   "id": "526856cd",
   "metadata": {},
   "outputs": [],
   "source": [
    "# Initialisieren des SVM-Klassifikators\n",
    "# SVC mit One-vs-Rest, \n",
    "# polynomialen Kernel (Grad 3), \n",
    "# mittlerem Gamma (1) für Einflussbereich \n",
    "# und starker Regularisierung (C=0.1) für Multiklassen-Klassifikation\n",
    "model = SVC(decision_function_shape='ovr', kernel='poly', gamma=1, C=0.1)"
   ]
  },
  {
   "cell_type": "code",
   "execution_count": 6,
   "id": "2b9ce642",
   "metadata": {
    "scrolled": true
   },
   "outputs": [
    {
     "data": {
      "text/html": [
       "<style>#sk-container-id-1 {color: black;background-color: white;}#sk-container-id-1 pre{padding: 0;}#sk-container-id-1 div.sk-toggleable {background-color: white;}#sk-container-id-1 label.sk-toggleable__label {cursor: pointer;display: block;width: 100%;margin-bottom: 0;padding: 0.3em;box-sizing: border-box;text-align: center;}#sk-container-id-1 label.sk-toggleable__label-arrow:before {content: \"▸\";float: left;margin-right: 0.25em;color: #696969;}#sk-container-id-1 label.sk-toggleable__label-arrow:hover:before {color: black;}#sk-container-id-1 div.sk-estimator:hover label.sk-toggleable__label-arrow:before {color: black;}#sk-container-id-1 div.sk-toggleable__content {max-height: 0;max-width: 0;overflow: hidden;text-align: left;background-color: #f0f8ff;}#sk-container-id-1 div.sk-toggleable__content pre {margin: 0.2em;color: black;border-radius: 0.25em;background-color: #f0f8ff;}#sk-container-id-1 input.sk-toggleable__control:checked~div.sk-toggleable__content {max-height: 200px;max-width: 100%;overflow: auto;}#sk-container-id-1 input.sk-toggleable__control:checked~label.sk-toggleable__label-arrow:before {content: \"▾\";}#sk-container-id-1 div.sk-estimator input.sk-toggleable__control:checked~label.sk-toggleable__label {background-color: #d4ebff;}#sk-container-id-1 div.sk-label input.sk-toggleable__control:checked~label.sk-toggleable__label {background-color: #d4ebff;}#sk-container-id-1 input.sk-hidden--visually {border: 0;clip: rect(1px 1px 1px 1px);clip: rect(1px, 1px, 1px, 1px);height: 1px;margin: -1px;overflow: hidden;padding: 0;position: absolute;width: 1px;}#sk-container-id-1 div.sk-estimator {font-family: monospace;background-color: #f0f8ff;border: 1px dotted black;border-radius: 0.25em;box-sizing: border-box;margin-bottom: 0.5em;}#sk-container-id-1 div.sk-estimator:hover {background-color: #d4ebff;}#sk-container-id-1 div.sk-parallel-item::after {content: \"\";width: 100%;border-bottom: 1px solid gray;flex-grow: 1;}#sk-container-id-1 div.sk-label:hover label.sk-toggleable__label {background-color: #d4ebff;}#sk-container-id-1 div.sk-serial::before {content: \"\";position: absolute;border-left: 1px solid gray;box-sizing: border-box;top: 0;bottom: 0;left: 50%;z-index: 0;}#sk-container-id-1 div.sk-serial {display: flex;flex-direction: column;align-items: center;background-color: white;padding-right: 0.2em;padding-left: 0.2em;position: relative;}#sk-container-id-1 div.sk-item {position: relative;z-index: 1;}#sk-container-id-1 div.sk-parallel {display: flex;align-items: stretch;justify-content: center;background-color: white;position: relative;}#sk-container-id-1 div.sk-item::before, #sk-container-id-1 div.sk-parallel-item::before {content: \"\";position: absolute;border-left: 1px solid gray;box-sizing: border-box;top: 0;bottom: 0;left: 50%;z-index: -1;}#sk-container-id-1 div.sk-parallel-item {display: flex;flex-direction: column;z-index: 1;position: relative;background-color: white;}#sk-container-id-1 div.sk-parallel-item:first-child::after {align-self: flex-end;width: 50%;}#sk-container-id-1 div.sk-parallel-item:last-child::after {align-self: flex-start;width: 50%;}#sk-container-id-1 div.sk-parallel-item:only-child::after {width: 0;}#sk-container-id-1 div.sk-dashed-wrapped {border: 1px dashed gray;margin: 0 0.4em 0.5em 0.4em;box-sizing: border-box;padding-bottom: 0.4em;background-color: white;}#sk-container-id-1 div.sk-label label {font-family: monospace;font-weight: bold;display: inline-block;line-height: 1.2em;}#sk-container-id-1 div.sk-label-container {text-align: center;}#sk-container-id-1 div.sk-container {/* jupyter's `normalize.less` sets `[hidden] { display: none; }` but bootstrap.min.css set `[hidden] { display: none !important; }` so we also need the `!important` here to be able to override the default hidden behavior on the sphinx rendered scikit-learn.org. See: https://github.com/scikit-learn/scikit-learn/issues/21755 */display: inline-block !important;position: relative;}#sk-container-id-1 div.sk-text-repr-fallback {display: none;}</style><div id=\"sk-container-id-1\" class=\"sk-top-container\"><div class=\"sk-text-repr-fallback\"><pre>SVC(C=0.1, gamma=1, kernel=&#x27;poly&#x27;)</pre><b>In a Jupyter environment, please rerun this cell to show the HTML representation or trust the notebook. <br />On GitHub, the HTML representation is unable to render, please try loading this page with nbviewer.org.</b></div><div class=\"sk-container\" hidden><div class=\"sk-item\"><div class=\"sk-estimator sk-toggleable\"><input class=\"sk-toggleable__control sk-hidden--visually\" id=\"sk-estimator-id-1\" type=\"checkbox\" checked><label for=\"sk-estimator-id-1\" class=\"sk-toggleable__label sk-toggleable__label-arrow\">SVC</label><div class=\"sk-toggleable__content\"><pre>SVC(C=0.1, gamma=1, kernel=&#x27;poly&#x27;)</pre></div></div></div></div></div>"
      ],
      "text/plain": [
       "SVC(C=0.1, gamma=1, kernel='poly')"
      ]
     },
     "execution_count": 6,
     "metadata": {},
     "output_type": "execute_result"
    }
   ],
   "source": [
    "model.fit(X_train, y_train)"
   ]
  },
  {
   "cell_type": "code",
   "execution_count": 7,
   "id": "bb3c402c",
   "metadata": {},
   "outputs": [
    {
     "name": "stdout",
     "output_type": "stream",
     "text": [
      "Testgenauigkeit: 0.9476681323434009\n"
     ]
    }
   ],
   "source": [
    "y_pred = model.predict(X_test)\n",
    "test_accuracy = accuracy_score(y_test, y_pred)\n",
    "print(\"Testgenauigkeit:\", test_accuracy)"
   ]
  },
  {
   "cell_type": "code",
   "execution_count": 8,
   "id": "a8e62e2c",
   "metadata": {},
   "outputs": [
    {
     "name": "stdout",
     "output_type": "stream",
     "text": [
      "Classification Report:\n",
      "               precision    recall  f1-score   support\n",
      "\n",
      "           0       1.00      1.00      1.00       160\n",
      "           1       1.00      1.00      1.00       166\n",
      "           2       1.00      1.00      1.00       246\n",
      "           3       1.00      1.00      1.00       166\n",
      "           4       1.00      1.00      1.00       246\n",
      "           5       0.83      0.77      0.80       164\n",
      "           6       1.00      1.00      1.00       164\n",
      "           7       1.00      0.66      0.80       164\n",
      "           8       1.00      0.83      0.91       143\n",
      "           9       1.00      1.00      1.00       225\n",
      "          10       0.95      1.00      0.98       164\n",
      "          11       0.96      1.00      0.98       166\n",
      "          12       0.95      0.94      0.94       166\n",
      "          13       0.93      1.00      0.97       166\n",
      "          14       1.00      1.00      1.00       166\n",
      "          15       0.75      1.00      0.85       156\n",
      "          16       0.98      1.00      0.99       164\n",
      "          17       0.72      1.00      0.84       164\n",
      "          18       1.00      1.00      1.00       166\n",
      "          19       1.00      0.89      0.94       164\n",
      "          20       1.00      0.77      0.87       164\n",
      "          21       1.00      0.86      0.93       166\n",
      "          22       1.00      1.00      1.00       166\n",
      "          23       0.92      0.99      0.95       246\n",
      "          24       0.95      0.96      0.95       166\n",
      "          25       1.00      1.00      1.00       166\n",
      "          26       0.98      1.00      0.99       166\n",
      "          27       0.79      1.00      0.88       161\n",
      "          28       0.77      1.00      0.87       164\n",
      "          29       1.00      0.81      0.89       166\n",
      "          30       1.00      1.00      1.00       164\n",
      "          31       0.87      0.83      0.85       246\n",
      "          32       1.00      0.80      0.89       166\n",
      "          33       0.98      1.00      0.99       151\n",
      "          34       0.80      0.49      0.61       164\n",
      "          35       1.00      1.00      1.00       164\n",
      "          36       0.98      1.00      0.99       164\n",
      "          37       1.00      0.95      0.97       166\n",
      "          38       1.00      1.00      1.00       166\n",
      "          39       1.00      1.00      1.00       246\n",
      "          40       0.65      1.00      0.79       163\n",
      "          41       0.99      1.00      0.99       164\n",
      "          42       0.99      1.00      0.99       166\n",
      "          43       0.92      0.76      0.83       164\n",
      "          44       1.00      1.00      1.00       127\n",
      "          45       0.90      1.00      0.95       166\n",
      "          46       1.00      0.93      0.96       166\n",
      "          47       1.00      1.00      1.00       164\n",
      "          48       1.00      1.00      1.00       166\n",
      "          49       1.00      1.00      1.00       246\n",
      "          50       1.00      1.00      1.00       166\n",
      "          51       1.00      0.96      0.98       164\n",
      "          52       1.00      1.00      1.00       166\n",
      "          53       0.99      1.00      1.00       166\n",
      "          54       1.00      1.00      1.00       164\n",
      "          55       1.00      1.00      1.00       166\n",
      "          56       1.00      0.98      0.99       164\n",
      "          57       0.79      1.00      0.88       166\n",
      "          58       1.00      1.00      1.00       162\n",
      "          59       1.00      1.00      1.00       166\n",
      "          60       0.89      0.76      0.82       160\n",
      "          61       0.84      0.76      0.80       166\n",
      "          62       0.93      0.95      0.94       164\n",
      "          63       0.97      0.99      0.98       164\n",
      "          64       1.00      1.00      1.00       166\n",
      "          65       0.99      0.76      0.86       166\n",
      "          66       1.00      1.00      1.00       166\n",
      "          67       0.66      1.00      0.80       166\n",
      "          68       1.00      1.00      1.00       164\n",
      "          69       1.00      0.95      0.98       144\n",
      "          70       1.00      1.00      1.00       249\n",
      "          71       0.87      0.83      0.85       166\n",
      "          72       0.98      1.00      0.99       166\n",
      "          73       1.00      1.00      1.00       164\n",
      "          74       1.00      1.00      1.00       164\n",
      "          75       1.00      1.00      1.00       160\n",
      "          76       1.00      1.00      1.00       166\n",
      "          77       1.00      1.00      1.00       164\n",
      "          78       0.83      0.99      0.91       164\n",
      "          79       1.00      1.00      1.00       164\n",
      "          80       0.99      0.49      0.66       164\n",
      "\n",
      "    accuracy                           0.95     13873\n",
      "   macro avg       0.95      0.95      0.95     13873\n",
      "weighted avg       0.96      0.95      0.95     13873\n",
      "\n",
      "Accuracy (Polynomial Kernel): 94.77%\n",
      "F1 (Polynomial Kernel): 94.66\n"
     ]
    }
   ],
   "source": [
    "print(\"Classification Report:\\n\", classification_report(y_test, y_pred))\n",
    "poly_accuracy = accuracy_score(y_test, y_pred)\n",
    "poly_f1 = f1_score(y_test, y_pred, average='weighted')\n",
    "print('Accuracy (Polynomial Kernel): {:.2f}%'.format(poly_accuracy*100))\n",
    "print('F1 (Polynomial Kernel): {:.2f}'.format(poly_f1*100))"
   ]
  },
  {
   "cell_type": "code",
   "execution_count": 17,
   "id": "d3c57f26",
   "metadata": {},
   "outputs": [
    {
     "data": {
      "image/png": "[encoded data removed]",
      "text/plain": [
       "<Figure size 2000x2000 with 2 Axes>"
      ]
     },
     "metadata": {},
     "output_type": "display_data"
    }
   ],
   "source": [
    "# Berechnung der Confusion Matrix\n",
    "cnf_matrix = confusion_matrix(y_test, y_pred)\n",
    "\n",
    "# Visualisierung der Confusion Matrix\n",
    "plt.figure(figsize=(20,20))\n",
    "plt.imshow(cnf_matrix, interpolation='nearest')\n",
    "plt.colorbar()\n",
    "\n",
    "# Beschriftung der Achsen und Titel\n",
    "plt.xlabel('Vorhergesagte Klasse')\n",
    "plt.ylabel('Tatsächliche Klasse')\n",
    "plt.show()"
   ]
  },
  {
   "cell_type": "markdown",
   "id": "2183fc9b",
   "metadata": {},
   "source": [
    "---"
   ]
  },
  {
   "cell_type": "markdown",
   "id": "a804958a",
   "metadata": {},
   "source": [
    "## Export the SVM (OVR) Model"
   ]
  },
  {
   "cell_type": "code",
   "execution_count": 18,
   "id": "ad7f4343",
   "metadata": {},
   "outputs": [],
   "source": [
    "from joblib import dump"
   ]
  },
  {
   "cell_type": "code",
   "execution_count": 19,
   "id": "caa206dc",
   "metadata": {},
   "outputs": [
    {
     "data": {
      "text/plain": [
       "['svm_multi_classifier.joblib']"
      ]
     },
     "execution_count": 19,
     "metadata": {},
     "output_type": "execute_result"
    }
   ],
   "source": [
    "dump(model, 'svm_multi_classifier.joblib')"
   ]
  }
 ],
 "metadata": {
  "kernelspec": {
   "display_name": "Python 3 (ipykernel)",
   "language": "python",
   "name": "python3"
  },
  "language_info": {
   "codemirror_mode": {
    "name": "ipython",
    "version": 3
   },
   "file_extension": ".py",
   "mimetype": "text/x-python",
   "name": "python",
   "nbconvert_exporter": "python",
   "pygments_lexer": "ipython3",
   "version": "3.11.5"
  }
 },
 "nbformat": 4,
 "nbformat_minor": 5
}
