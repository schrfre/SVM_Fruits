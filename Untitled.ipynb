{
 "cells": [
  {
   "cell_type": "code",
   "execution_count": 2,
   "id": "b40fe006",
   "metadata": {},
   "outputs": [],
   "source": [
    "from PIL import Image\n",
    "import os\n",
    "\n",
    "def create_gif(image_folder, output_path, frame_duration):\n",
    "    # Liest alle Dateien im Verzeichnis\n",
    "    images = [img for img in os.listdir(image_folder) if img.endswith(\".png\") or img.endswith(\".jpg\")]\n",
    "    images.sort()  # Sortiert die Bilder, falls nötig\n",
    "\n",
    "    # Erstellt eine Liste von PIL-Image-Objekten\n",
    "    frames = [Image.open(os.path.join(image_folder, img)) for img in images]\n",
    "\n",
    "    # Das erste Bild wird als Basis für das GIF verwendet\n",
    "    frames[0].save(output_path, format='GIF',\n",
    "                   append_images=frames[1:],\n",
    "                   save_all=True,\n",
    "                   duration=frame_duration,\n",
    "                   loop=0)\n",
    "\n",
    "# Verwendungsbeispiel\n",
    "\n",
    "image_folder = '/Users/frederik/Library/CloudStorage/OneDrive-stud.hs-heilbronn.de/01_DataScienceGrundlagen/Notebooks/SVM/Fruits/frutis_360/fruits-360_dataset/fruits-360/Training/Avocado'  # Pfad zum Verzeichnis mit den Bildern\n",
    "output_path = '/Users/frederik/Library/CloudStorage/OneDrive-stud.hs-heilbronn.de/01_DataScienceGrundlagen/Notebooks/SVM/Fruits/output2.gif'  # Pfad und Name der GIF-Datei\n",
    "frame_duration = 50  # Dauer eines Frames in Millisekunden\n",
    "\n",
    "create_gif(image_folder, output_path, frame_duration)\n"
   ]
  },
  {
   "cell_type": "code",
   "execution_count": null,
   "id": "0ccbe809",
   "metadata": {},
   "outputs": [],
   "source": []
  }
 ],
 "metadata": {
  "kernelspec": {
   "display_name": "Python 3 (ipykernel)",
   "language": "python",
   "name": "python3"
  },
  "language_info": {
   "codemirror_mode": {
    "name": "ipython",
    "version": 3
   },
   "file_extension": ".py",
   "mimetype": "text/x-python",
   "name": "python",
   "nbconvert_exporter": "python",
   "pygments_lexer": "ipython3",
   "version": "3.11.5"
  }
 },
 "nbformat": 4,
 "nbformat_minor": 5
}
