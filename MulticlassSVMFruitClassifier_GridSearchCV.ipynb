{
 "cells": [
  {
   "cell_type": "markdown",
   "id": "10b44585",
   "metadata": {},
   "source": [
    "# Multiclass SVM\n",
    "Unter der Verwendung des *One to Rest Approaches*\n",
    "\n",
    "https://www.baeldung.com/cs/svm-multiclass-classification\n",
    "\n",
    "Horea Muresan, Mihai Oltean, Fruit recognition from images using deep learning, Acta Univ. Sapientiae, Informatica Vol. 10, Issue 1, pp. 26-42, 2018.\n"
   ]
  },
  {
   "cell_type": "code",
   "execution_count": 1,
   "id": "b2baa980",
   "metadata": {},
   "outputs": [],
   "source": [
    "# Datenverarbeitung und Dateioperationen\n",
    "import glob\n",
    "import os\n",
    "import cv2\n",
    "\n",
    "# Wissenschaftliche Berechnungen und Hilfsfunktionen\n",
    "import numpy as np\n",
    "import matplotlib.pyplot as plt\n",
    "\n",
    "# Maschinelles Lernen und Modellierung\n",
    "from sklearn.preprocessing import StandardScaler\n",
    "from sklearn.svm import SVC\n",
    "from sklearn.model_selection import GridSearchCV\n",
    "\n",
    "# Leistungsbewertung\n",
    "from sklearn.metrics import classification_report, accuracy_score, f1_score, confusion_matrix"
   ]
  },
  {
   "cell_type": "code",
   "execution_count": 2,
   "id": "6d71fd95",
   "metadata": {},
   "outputs": [],
   "source": [
    "def getAllData(data_type, dim, print_summary=False):\n",
    "    images = []\n",
    "    labels = []\n",
    "\n",
    "    # Basispfad für das Verzeichnis der Daten\n",
    "    base_path = \"frutis_360/fruits-360_dataset/fruits-360/LessData/\"\n",
    "\n",
    "    # Funktion, um alle Unterordner (Datenkategorien) zu erhalten\n",
    "    def get_categories(path):\n",
    "        return [d for d in os.listdir(path) if os.path.isdir(os.path.join(path, d))]\n",
    "\n",
    "    categories = get_categories(os.path.join(base_path, data_type))\n",
    "    total_images = 0  \n",
    "\n",
    "    for i, category in enumerate(categories):\n",
    "        category_path = os.path.join(base_path, data_type, category)\n",
    "        for image_path in glob.glob(os.path.join(category_path, \"*.jpg\")):\n",
    "            image = cv2.imread(image_path, cv2.IMREAD_COLOR)\n",
    "            image = cv2.resize(image, (dim, dim))\n",
    "            image = cv2.cvtColor(image, cv2.COLOR_RGB2BGR)\n",
    "            images.append(image)\n",
    "            labels.append(i)\n",
    "            total_images += 1\n",
    "\n",
    "    if print_summary:\n",
    "        print(f\"Found {total_images} images belonging to {len(categories)} classes.\")\n",
    "\n",
    "    images = np.array(images)\n",
    "    labels = np.array(labels)\n",
    "    return images, labels"
   ]
  },
  {
   "cell_type": "code",
   "execution_count": 3,
   "id": "d443ca09",
   "metadata": {
    "scrolled": false
   },
   "outputs": [
    {
     "name": "stdout",
     "output_type": "stream",
     "text": [
      "Training: \n",
      "Found 41310 images belonging to 81 classes.\n",
      "Test: \n",
      "Found 13873 images belonging to 81 classes.\n"
     ]
    }
   ],
   "source": [
    "dim = 100\n",
    "\n",
    "# Abrufen der Daten für Training und Test, mit der Zusammenfassung\n",
    "print(\"Training: \")\n",
    "X_train, y_train = getAllData('Training', dim, print_summary=True)\n",
    "print(\"Test: \")\n",
    "X_test, y_test = getAllData('Test', dim, print_summary=True)"
   ]
  },
  {
   "cell_type": "code",
   "execution_count": 4,
   "id": "297be5a5",
   "metadata": {},
   "outputs": [],
   "source": [
    "#Skalierung der Daten\n",
    "scaler = StandardScaler()\n",
    "X_train = scaler.fit_transform([i.flatten() for i in X_train])\n",
    "X_test = scaler.fit_transform([i.flatten() for i in X_test])"
   ]
  },
  {
   "cell_type": "markdown",
   "id": "7f1e7219",
   "metadata": {},
   "source": [
    "## SVM - One-to-Rest\n",
    "Der One-to-Rest approach nutzt $m$ SVMs. Jede SVM wird eine der $m$ Klassen vorhersagen.\n",
    "- Hier sind es $m = 81$ SVMs\n",
    "\n",
    "\n",
    "Der One-to-One approach nutzt $\\frac{m (m-1)}{2}$ SVMs. Den jede Klasse wird zu einander in Relation gesetzt.\n",
    "- Hier sind es $\\frac{81 (81-1)}{2} = 3240$ SVMs die berechnet werden müssten."
   ]
  },
  {
   "cell_type": "markdown",
   "id": "d9bf14e7",
   "metadata": {},
   "source": [
    "Initialisieren des SVM-Klassifikatoren:"
   ]
  },
  {
   "cell_type": "code",
   "execution_count": 5,
   "id": "526856cd",
   "metadata": {},
   "outputs": [],
   "source": [
    "# Initialisieren des SVM-Klassifikators mit one to rest\n",
    "model_ovr = SVC(decision_function_shape='ovr')"
   ]
  },
  {
   "cell_type": "code",
   "execution_count": 6,
   "id": "c2592522",
   "metadata": {},
   "outputs": [],
   "source": [
    "param_grid = {\n",
    "    'C': [0.1, 1, 10],  # Werte für den Regularisierungsparameter\n",
    "    'gamma': [1, 0.1, 0.01],  # Werte für den Gamma-Parameter (für nichtlineare Kerne)\n",
    "    'kernel': ['poly']  # Kernelvarianten\n",
    "}"
   ]
  },
  {
   "cell_type": "code",
   "execution_count": 7,
   "id": "1ced7acf",
   "metadata": {},
   "outputs": [],
   "source": [
    "gridsearchcv = GridSearchCV(model_ovr, param_grid=param_grid, cv=3, verbose=2)"
   ]
  },
  {
   "cell_type": "code",
   "execution_count": null,
   "id": "da561c8a",
   "metadata": {},
   "outputs": [
    {
     "name": "stdout",
     "output_type": "stream",
     "text": [
      "Fitting 3 folds for each of 9 candidates, totalling 27 fits\n",
      "[CV] END .......................C=0.1, gamma=1, kernel=poly; total time=108.8min\n"
     ]
    }
   ],
   "source": [
    "gridsearchcv.fit(X_train, y_train)"
   ]
  },
  {
   "cell_type": "code",
   "execution_count": null,
   "id": "9a465c02",
   "metadata": {},
   "outputs": [],
   "source": [
    "print(\"Beste Parameter:\", gridsearchcv.best_params_)\n",
    "model = gridsearchcv.best_estimator_"
   ]
  },
  {
   "cell_type": "code",
   "execution_count": null,
   "id": "bb3c402c",
   "metadata": {},
   "outputs": [],
   "source": [
    "y_pred = model.predict(X_test)\n",
    "test_accuracy = accuracy_score(y_test, y_pred)\n",
    "print(\"Testgenauigkeit:\", test_accuracy)"
   ]
  },
  {
   "cell_type": "code",
   "execution_count": null,
   "id": "a8e62e2c",
   "metadata": {},
   "outputs": [],
   "source": [
    "print(\"Classification Report:\\n\", classification_report(y_test, y_pred))\n",
    "poly_accuracy = accuracy_score(y_test, y_pred)\n",
    "poly_f1 = f1_score(y_test, y_pred, average='weighted')\n",
    "print('Accuracy (Polynomial Kernel): {:.2f}%'.format(poly_accuracy*100))\n",
    "print('F1 (Polynomial Kernel): {:.2f}'.format(poly_f1*100))"
   ]
  },
  {
   "cell_type": "code",
   "execution_count": null,
   "id": "d3c57f26",
   "metadata": {},
   "outputs": [],
   "source": [
    "# Berechnung der Confusion Matrix\n",
    "cnf_matrix = confusion_matrix(y_test, y_pred)\n",
    "\n",
    "# Visualisierung der Confusion Matrix\n",
    "plt.figure(figsize=(20,20))\n",
    "plt.imshow(cnf_matrix, interpolation='nearest')\n",
    "plt.colorbar()\n",
    "\n",
    "# Beschriftung der Achsen und Titel\n",
    "plt.xlabel('Vorhergesagte Klasse')\n",
    "plt.ylabel('Tatsächliche Klasse')\n",
    "plt.show()"
   ]
  },
  {
   "cell_type": "markdown",
   "id": "2183fc9b",
   "metadata": {},
   "source": [
    "---"
   ]
  },
  {
   "cell_type": "markdown",
   "id": "a804958a",
   "metadata": {},
   "source": [
    "## Export the SVM (OVR) Model"
   ]
  },
  {
   "cell_type": "code",
   "execution_count": null,
   "id": "ad7f4343",
   "metadata": {},
   "outputs": [],
   "source": [
    "from joblib import dump"
   ]
  },
  {
   "cell_type": "code",
   "execution_count": null,
   "id": "caa206dc",
   "metadata": {},
   "outputs": [],
   "source": [
    "dump(model, 'svm_multi_classifier.joblib')"
   ]
  }
 ],
 "metadata": {
  "kernelspec": {
   "display_name": "Python 3 (ipykernel)",
   "language": "python",
   "name": "python3"
  },
  "language_info": {
   "codemirror_mode": {
    "name": "ipython",
    "version": 3
   },
   "file_extension": ".py",
   "mimetype": "text/x-python",
   "name": "python",
   "nbconvert_exporter": "python",
   "pygments_lexer": "ipython3",
   "version": "3.11.5"
  }
 },
 "nbformat": 4,
 "nbformat_minor": 5
}
