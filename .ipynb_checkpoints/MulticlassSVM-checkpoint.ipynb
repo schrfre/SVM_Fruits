{
 "cells": [
  {
   "cell_type": "markdown",
   "id": "10b44585",
   "metadata": {},
   "source": [
    "# Multiclass SVM\n",
    "Unter der Verwendung des *One to Rest Approaches*\n",
    "\n",
    "https://www.baeldung.com/cs/svm-multiclass-classification"
   ]
  },
  {
   "cell_type": "code",
   "execution_count": 1,
   "id": "b2baa980",
   "metadata": {},
   "outputs": [],
   "source": [
    "import glob\n",
    "import os\n",
    "import cv2\n",
    "import numpy as np\n",
    "from sklearn.preprocessing import StandardScaler"
   ]
  },
  {
   "cell_type": "code",
   "execution_count": 2,
   "id": "6d71fd95",
   "metadata": {},
   "outputs": [],
   "source": [
    "def getAllData(data_type, dim, print_summary=False):\n",
    "    images = []\n",
    "    labels = []\n",
    "\n",
    "    # Basispfad für das Verzeichnis der Daten\n",
    "    base_path = \"/Users/frederik/Code/SVM/Notebooks/SVM/Fruits/frutis_360/fruits-360-original-size/fruits-360-original-size/\"\n",
    "\n",
    "    # Funktion, um alle Unterordner (Datenkategorien) zu erhalten\n",
    "    def get_categories(path):\n",
    "        return [d for d in os.listdir(path) if os.path.isdir(os.path.join(path, d))]\n",
    "\n",
    "    categories = get_categories(os.path.join(base_path, data_type))\n",
    "    total_images = 0  # Gesamtzahl der Bilder zählen\n",
    "\n",
    "    for i, category in enumerate(categories):\n",
    "        category_path = os.path.join(base_path, data_type, category)\n",
    "        for image_path in glob.glob(os.path.join(category_path, \"*.jpg\")):\n",
    "            image = cv2.imread(image_path, cv2.IMREAD_COLOR)\n",
    "            image = cv2.resize(image, (dim, dim))\n",
    "            image = cv2.cvtColor(image, cv2.COLOR_RGB2BGR)\n",
    "            images.append(image)\n",
    "            labels.append(i)\n",
    "            total_images += 1\n",
    "\n",
    "    if print_summary:\n",
    "        print(f\"Found {total_images} images belonging to {len(categories)} classes.\")\n",
    "\n",
    "    images = np.array(images)\n",
    "    labels = np.array(labels)\n",
    "    return images, labels"
   ]
  },
  {
   "cell_type": "code",
   "execution_count": 3,
   "id": "d443ca09",
   "metadata": {
    "scrolled": false
   },
   "outputs": [
    {
     "name": "stdout",
     "output_type": "stream",
     "text": [
      "Found 6231 images belonging to 24 classes.\n",
      "Found 3110 images belonging to 24 classes.\n"
     ]
    }
   ],
   "source": [
    "# Setzen Sie die Bildgröße fest\n",
    "dim = 100\n",
    "\n",
    "# Rufen Sie die Daten für Training und Test ab, mit der Zusammenfassung\n",
    "X_train, y_train = getAllData('Training', dim, print_summary=True)\n",
    "X_test, y_test = getAllData('Test', dim, print_summary=True)"
   ]
  },
  {
   "cell_type": "code",
   "execution_count": 4,
   "id": "297be5a5",
   "metadata": {},
   "outputs": [],
   "source": [
    "#Scale Data Images\n",
    "scaler = StandardScaler()\n",
    "X_train = scaler.fit_transform([i.flatten() for i in X_train])\n",
    "X_test = scaler.fit_transform([i.flatten() for i in X_test])"
   ]
  },
  {
   "cell_type": "markdown",
   "id": "7f1e7219",
   "metadata": {},
   "source": [
    "## SVM - One-vs-Rest\n",
    "In the One-to-Rest approach, the classifier can use *m* SVMs. Each SVM would predict membership in one of the $m$ classes.\n",
    "\n",
    "In the One-to-One approach, the classifier can use: $\\frac{m (m-1)}{2}$ SVMs."
   ]
  },
  {
   "cell_type": "code",
   "execution_count": 5,
   "id": "c31b7f6f",
   "metadata": {},
   "outputs": [],
   "source": [
    "from sklearn.svm import SVC\n",
    "from sklearn.model_selection import RandomizedSearchCV\n",
    "from sklearn.metrics import classification_report, accuracy_score, f1_score"
   ]
  },
  {
   "cell_type": "markdown",
   "id": "d9bf14e7",
   "metadata": {},
   "source": [
    "Initialisieren des SVM-Klassifikatoren:"
   ]
  },
  {
   "cell_type": "code",
   "execution_count": 6,
   "id": "526856cd",
   "metadata": {},
   "outputs": [],
   "source": [
    "# Initialisieren des SVM-Klassifikators\n",
    "# Der Standardkernel ist 'rbf', aber Sie können ihn je nach Bedarf ändern\n",
    "svm_classifier = SVC(decision_function_shape='ovr')"
   ]
  },
  {
   "cell_type": "markdown",
   "id": "83267071",
   "metadata": {},
   "source": [
    "Definieren des Parameterbereich für die Grid-Suche:\n",
    "- **C**: Dies ist der Regularisierungsparameter. Der Wert von **C** gibt an, wie stark die Optimierung auf das Finden einer Entscheidungsgrenze mit kleinem Fehler auf den Trainingsdaten fokussieren soll. Ein kleiner Wert von **C** macht die Entscheidungsoberfläche glatt, während ein hoher Wert von **C** darauf abzielt, alle Trainingsdaten korrekt zu klassifizieren, indem er die Kosten für eine Fehlklassifizierung erhöht. Ein hoher Wert für **C** kann zu einem Overfitting führen, weil das Modell versucht, alle Trainingsproben korrekt zu klassifizieren. Ein niedrigerer Wert fördert eine größere Toleranz für Fehler und kann zu einem robusteren Modell führen, das besser generalisiert.\n",
    "- **gamma**: Der gamma-Parameter definiert, wie weit der Einfluss eines einzelnen Trainingsbeispiels reicht. Mit anderen Worten, er bestimmt die Krümmung der Entscheidungsgrenze. Wenn **gamma** groß ist, ist der Einfluss eines Trainingsbeispiels nur in seiner unmittelbaren Umgebung groß, was zu einer kurvigeren Entscheidungsgrenze führt. Ein kleiner **gamma**-Wert bedeutet, dass der Einfluss weit reicht, was zu einer glatteren Entscheidungsgrenze führt. Der **gamma**-Parameter ist nur für nichtlineare Kernel wie 'rbf', 'poly' und 'sigmoid' relevant."
   ]
  },
  {
   "cell_type": "code",
   "execution_count": 7,
   "id": "4ffca0b0",
   "metadata": {},
   "outputs": [],
   "source": [
    "param_grid = {\n",
    "    'C': [0.1, 1, 10],  # Werte für den Regularisierungsparameter\n",
    "    'gamma': [1, 0.1, 0.01],  # Werte für den Gamma-Parameter (für nichtlineare Kerne)\n",
    "    'kernel': ['poly']  # Kernelvarianten\n",
    "}"
   ]
  },
  {
   "cell_type": "markdown",
   "id": "859783e3",
   "metadata": {},
   "source": [
    "Definieren des Parameterbereich für die Grid-Suche:\n",
    "\n",
    "\n",
    "- **param_grid** ist das Wörterbuch der Parameter, die Sie optimieren möchten.\n",
    "- **cv** steht für Cross-Validation. Sie können die Anzahl der Folds hier angeben.\n",
    "- **verbose** steuert die Ausgabe während der Suche (höhere Zahlen geben detailliertere Ausgaben)."
   ]
  },
  {
   "cell_type": "code",
   "execution_count": 8,
   "id": "c8d2c1f3",
   "metadata": {},
   "outputs": [],
   "source": [
    "random_search = RandomizedSearchCV(svm_classifier, param_distributions=param_grid, n_iter=10, cv=3, verbose=2, random_state=42)\n"
   ]
  },
  {
   "cell_type": "markdown",
   "id": "c1cb72f7",
   "metadata": {},
   "source": [
    "Trainieren des Grid-Search-Modell mit den Trainingsdaten:"
   ]
  },
  {
   "cell_type": "code",
   "execution_count": 9,
   "id": "dfe6db81",
   "metadata": {
    "scrolled": false
   },
   "outputs": [
    {
     "name": "stderr",
     "output_type": "stream",
     "text": [
      "/Users/frederik/anaconda3/lib/python3.11/site-packages/sklearn/model_selection/_search.py:306: UserWarning: The total space of parameters 9 is smaller than n_iter=10. Running 9 iterations. For exhaustive searches, use GridSearchCV.\n",
      "  warnings.warn(\n"
     ]
    },
    {
     "name": "stdout",
     "output_type": "stream",
     "text": [
      "Fitting 3 folds for each of 9 candidates, totalling 27 fits\n",
      "[CV] END ........................C=0.1, gamma=1, kernel=poly; total time= 3.6min\n",
      "[CV] END ........................C=0.1, gamma=1, kernel=poly; total time= 3.5min\n",
      "[CV] END ........................C=0.1, gamma=1, kernel=poly; total time= 3.5min\n",
      "[CV] END ......................C=0.1, gamma=0.1, kernel=poly; total time= 3.6min\n",
      "[CV] END ......................C=0.1, gamma=0.1, kernel=poly; total time= 3.5min\n",
      "[CV] END ......................C=0.1, gamma=0.1, kernel=poly; total time= 3.5min\n",
      "[CV] END .....................C=0.1, gamma=0.01, kernel=poly; total time= 3.6min\n",
      "[CV] END .....................C=0.1, gamma=0.01, kernel=poly; total time= 3.5min\n",
      "[CV] END .....................C=0.1, gamma=0.01, kernel=poly; total time= 3.6min\n",
      "[CV] END ..........................C=1, gamma=1, kernel=poly; total time= 3.6min\n",
      "[CV] END ..........................C=1, gamma=1, kernel=poly; total time= 3.5min\n",
      "[CV] END ..........................C=1, gamma=1, kernel=poly; total time= 3.5min\n",
      "[CV] END ........................C=1, gamma=0.1, kernel=poly; total time= 3.6min\n",
      "[CV] END ........................C=1, gamma=0.1, kernel=poly; total time= 3.5min\n",
      "[CV] END ........................C=1, gamma=0.1, kernel=poly; total time= 3.6min\n",
      "[CV] END .......................C=1, gamma=0.01, kernel=poly; total time= 3.6min\n",
      "[CV] END .......................C=1, gamma=0.01, kernel=poly; total time= 3.5min\n",
      "[CV] END .......................C=1, gamma=0.01, kernel=poly; total time= 3.5min\n",
      "[CV] END .........................C=10, gamma=1, kernel=poly; total time= 3.6min\n",
      "[CV] END .........................C=10, gamma=1, kernel=poly; total time= 3.5min\n",
      "[CV] END .........................C=10, gamma=1, kernel=poly; total time= 3.5min\n",
      "[CV] END .......................C=10, gamma=0.1, kernel=poly; total time= 3.5min\n",
      "[CV] END .......................C=10, gamma=0.1, kernel=poly; total time= 3.5min\n",
      "[CV] END .......................C=10, gamma=0.1, kernel=poly; total time= 3.5min\n",
      "[CV] END ......................C=10, gamma=0.01, kernel=poly; total time= 3.6min\n",
      "[CV] END ......................C=10, gamma=0.01, kernel=poly; total time= 3.5min\n",
      "[CV] END ......................C=10, gamma=0.01, kernel=poly; total time= 3.6min\n"
     ]
    },
    {
     "data": {
      "text/html": [
       "<style>#sk-container-id-1 {color: black;background-color: white;}#sk-container-id-1 pre{padding: 0;}#sk-container-id-1 div.sk-toggleable {background-color: white;}#sk-container-id-1 label.sk-toggleable__label {cursor: pointer;display: block;width: 100%;margin-bottom: 0;padding: 0.3em;box-sizing: border-box;text-align: center;}#sk-container-id-1 label.sk-toggleable__label-arrow:before {content: \"▸\";float: left;margin-right: 0.25em;color: #696969;}#sk-container-id-1 label.sk-toggleable__label-arrow:hover:before {color: black;}#sk-container-id-1 div.sk-estimator:hover label.sk-toggleable__label-arrow:before {color: black;}#sk-container-id-1 div.sk-toggleable__content {max-height: 0;max-width: 0;overflow: hidden;text-align: left;background-color: #f0f8ff;}#sk-container-id-1 div.sk-toggleable__content pre {margin: 0.2em;color: black;border-radius: 0.25em;background-color: #f0f8ff;}#sk-container-id-1 input.sk-toggleable__control:checked~div.sk-toggleable__content {max-height: 200px;max-width: 100%;overflow: auto;}#sk-container-id-1 input.sk-toggleable__control:checked~label.sk-toggleable__label-arrow:before {content: \"▾\";}#sk-container-id-1 div.sk-estimator input.sk-toggleable__control:checked~label.sk-toggleable__label {background-color: #d4ebff;}#sk-container-id-1 div.sk-label input.sk-toggleable__control:checked~label.sk-toggleable__label {background-color: #d4ebff;}#sk-container-id-1 input.sk-hidden--visually {border: 0;clip: rect(1px 1px 1px 1px);clip: rect(1px, 1px, 1px, 1px);height: 1px;margin: -1px;overflow: hidden;padding: 0;position: absolute;width: 1px;}#sk-container-id-1 div.sk-estimator {font-family: monospace;background-color: #f0f8ff;border: 1px dotted black;border-radius: 0.25em;box-sizing: border-box;margin-bottom: 0.5em;}#sk-container-id-1 div.sk-estimator:hover {background-color: #d4ebff;}#sk-container-id-1 div.sk-parallel-item::after {content: \"\";width: 100%;border-bottom: 1px solid gray;flex-grow: 1;}#sk-container-id-1 div.sk-label:hover label.sk-toggleable__label {background-color: #d4ebff;}#sk-container-id-1 div.sk-serial::before {content: \"\";position: absolute;border-left: 1px solid gray;box-sizing: border-box;top: 0;bottom: 0;left: 50%;z-index: 0;}#sk-container-id-1 div.sk-serial {display: flex;flex-direction: column;align-items: center;background-color: white;padding-right: 0.2em;padding-left: 0.2em;position: relative;}#sk-container-id-1 div.sk-item {position: relative;z-index: 1;}#sk-container-id-1 div.sk-parallel {display: flex;align-items: stretch;justify-content: center;background-color: white;position: relative;}#sk-container-id-1 div.sk-item::before, #sk-container-id-1 div.sk-parallel-item::before {content: \"\";position: absolute;border-left: 1px solid gray;box-sizing: border-box;top: 0;bottom: 0;left: 50%;z-index: -1;}#sk-container-id-1 div.sk-parallel-item {display: flex;flex-direction: column;z-index: 1;position: relative;background-color: white;}#sk-container-id-1 div.sk-parallel-item:first-child::after {align-self: flex-end;width: 50%;}#sk-container-id-1 div.sk-parallel-item:last-child::after {align-self: flex-start;width: 50%;}#sk-container-id-1 div.sk-parallel-item:only-child::after {width: 0;}#sk-container-id-1 div.sk-dashed-wrapped {border: 1px dashed gray;margin: 0 0.4em 0.5em 0.4em;box-sizing: border-box;padding-bottom: 0.4em;background-color: white;}#sk-container-id-1 div.sk-label label {font-family: monospace;font-weight: bold;display: inline-block;line-height: 1.2em;}#sk-container-id-1 div.sk-label-container {text-align: center;}#sk-container-id-1 div.sk-container {/* jupyter's `normalize.less` sets `[hidden] { display: none; }` but bootstrap.min.css set `[hidden] { display: none !important; }` so we also need the `!important` here to be able to override the default hidden behavior on the sphinx rendered scikit-learn.org. See: https://github.com/scikit-learn/scikit-learn/issues/21755 */display: inline-block !important;position: relative;}#sk-container-id-1 div.sk-text-repr-fallback {display: none;}</style><div id=\"sk-container-id-1\" class=\"sk-top-container\"><div class=\"sk-text-repr-fallback\"><pre>RandomizedSearchCV(cv=3, estimator=SVC(),\n",
       "                   param_distributions={&#x27;C&#x27;: [0.1, 1, 10],\n",
       "                                        &#x27;gamma&#x27;: [1, 0.1, 0.01],\n",
       "                                        &#x27;kernel&#x27;: [&#x27;poly&#x27;]},\n",
       "                   random_state=42, verbose=2)</pre><b>In a Jupyter environment, please rerun this cell to show the HTML representation or trust the notebook. <br />On GitHub, the HTML representation is unable to render, please try loading this page with nbviewer.org.</b></div><div class=\"sk-container\" hidden><div class=\"sk-item sk-dashed-wrapped\"><div class=\"sk-label-container\"><div class=\"sk-label sk-toggleable\"><input class=\"sk-toggleable__control sk-hidden--visually\" id=\"sk-estimator-id-1\" type=\"checkbox\" ><label for=\"sk-estimator-id-1\" class=\"sk-toggleable__label sk-toggleable__label-arrow\">RandomizedSearchCV</label><div class=\"sk-toggleable__content\"><pre>RandomizedSearchCV(cv=3, estimator=SVC(),\n",
       "                   param_distributions={&#x27;C&#x27;: [0.1, 1, 10],\n",
       "                                        &#x27;gamma&#x27;: [1, 0.1, 0.01],\n",
       "                                        &#x27;kernel&#x27;: [&#x27;poly&#x27;]},\n",
       "                   random_state=42, verbose=2)</pre></div></div></div><div class=\"sk-parallel\"><div class=\"sk-parallel-item\"><div class=\"sk-item\"><div class=\"sk-label-container\"><div class=\"sk-label sk-toggleable\"><input class=\"sk-toggleable__control sk-hidden--visually\" id=\"sk-estimator-id-2\" type=\"checkbox\" ><label for=\"sk-estimator-id-2\" class=\"sk-toggleable__label sk-toggleable__label-arrow\">estimator: SVC</label><div class=\"sk-toggleable__content\"><pre>SVC()</pre></div></div></div><div class=\"sk-serial\"><div class=\"sk-item\"><div class=\"sk-estimator sk-toggleable\"><input class=\"sk-toggleable__control sk-hidden--visually\" id=\"sk-estimator-id-3\" type=\"checkbox\" ><label for=\"sk-estimator-id-3\" class=\"sk-toggleable__label sk-toggleable__label-arrow\">SVC</label><div class=\"sk-toggleable__content\"><pre>SVC()</pre></div></div></div></div></div></div></div></div></div></div>"
      ],
      "text/plain": [
       "RandomizedSearchCV(cv=3, estimator=SVC(),\n",
       "                   param_distributions={'C': [0.1, 1, 10],\n",
       "                                        'gamma': [1, 0.1, 0.01],\n",
       "                                        'kernel': ['poly']},\n",
       "                   random_state=42, verbose=2)"
      ]
     },
     "execution_count": 9,
     "metadata": {},
     "output_type": "execute_result"
    }
   ],
   "source": [
    "random_search.fit(X_train, y_train)"
   ]
  },
  {
   "cell_type": "code",
   "execution_count": 10,
   "id": "eaaf3d85",
   "metadata": {},
   "outputs": [
    {
     "name": "stdout",
     "output_type": "stream",
     "text": [
      "Beste Parameter: {'kernel': 'poly', 'gamma': 1, 'C': 0.1}\n"
     ]
    }
   ],
   "source": [
    "print(\"Beste Parameter:\", random_search.best_params_)\n",
    "best_model = random_search.best_estimator_"
   ]
  },
  {
   "cell_type": "code",
   "execution_count": 11,
   "id": "be89f6ca",
   "metadata": {},
   "outputs": [
    {
     "name": "stdout",
     "output_type": "stream",
     "text": [
      "Testgenauigkeit: 0.9996784565916399\n"
     ]
    }
   ],
   "source": [
    "y_pred = best_model.predict(X_test)\n",
    "test_accuracy = accuracy_score(y_test, y_pred)\n",
    "print(\"Testgenauigkeit:\", test_accuracy)"
   ]
  },
  {
   "cell_type": "code",
   "execution_count": 12,
   "id": "a388072d",
   "metadata": {},
   "outputs": [
    {
     "name": "stdout",
     "output_type": "stream",
     "text": [
      "Classification Report:\n",
      "               precision    recall  f1-score   support\n",
      "\n",
      "           0       1.00      1.00      1.00        81\n",
      "           1       1.00      1.00      1.00        80\n",
      "           2       1.00      1.00      1.00        80\n",
      "           3       1.00      1.00      1.00       154\n",
      "           4       1.00      1.00      1.00       159\n",
      "           5       1.00      1.00      1.00       162\n",
      "           6       1.00      1.00      1.00       150\n",
      "           7       1.00      1.00      1.00       159\n",
      "           8       1.00      1.00      1.00       158\n",
      "           9       1.00      1.00      1.00       154\n",
      "          10       1.00      1.00      1.00       154\n",
      "          11       1.00      1.00      1.00        50\n",
      "          12       1.00      0.99      1.00       160\n",
      "          13       1.00      1.00      1.00       160\n",
      "          14       1.00      1.00      1.00        47\n",
      "          15       1.00      1.00      1.00        50\n",
      "          16       1.00      1.00      1.00        72\n",
      "          17       1.00      1.00      1.00       234\n",
      "          18       1.00      1.00      1.00       154\n",
      "          19       0.99      1.00      1.00       156\n",
      "          20       1.00      1.00      1.00       157\n",
      "          21       1.00      1.00      1.00        80\n",
      "          22       1.00      1.00      1.00       159\n",
      "          23       1.00      1.00      1.00       140\n",
      "\n",
      "    accuracy                           1.00      3110\n",
      "   macro avg       1.00      1.00      1.00      3110\n",
      "weighted avg       1.00      1.00      1.00      3110\n",
      "\n",
      "Accuracy (Polynomial Kernel): 99.97%\n",
      "F1 (Polynomial Kernel): 99.97\n"
     ]
    }
   ],
   "source": [
    "print(\"Classification Report:\\n\", classification_report(y_test, y_pred))\n",
    "poly_accuracy = accuracy_score(y_test, y_pred)\n",
    "poly_f1 = f1_score(y_test, y_pred, average='weighted')\n",
    "print('Accuracy (Polynomial Kernel): {:.2f}%'.format(poly_accuracy*100))\n",
    "print('F1 (Polynomial Kernel): {:.2f}'.format(poly_f1*100))"
   ]
  },
  {
   "cell_type": "markdown",
   "id": "1b35f315",
   "metadata": {},
   "source": [
    "----"
   ]
  },
  {
   "cell_type": "markdown",
   "id": "1d1ed329",
   "metadata": {},
   "source": [
    "## Export the trained model"
   ]
  },
  {
   "cell_type": "code",
   "execution_count": 15,
   "id": "13f43d39",
   "metadata": {},
   "outputs": [],
   "source": [
    "from joblib import dump"
   ]
  },
  {
   "cell_type": "code",
   "execution_count": 16,
   "id": "36c18f45",
   "metadata": {},
   "outputs": [
    {
     "data": {
      "text/plain": [
       "['svm_multi_classifier.joblib']"
      ]
     },
     "execution_count": 16,
     "metadata": {},
     "output_type": "execute_result"
    }
   ],
   "source": [
    "dump(svm_classifier, 'svm_multi_classifier.joblib')"
   ]
  }
 ],
 "metadata": {
  "kernelspec": {
   "display_name": "Python 3 (ipykernel)",
   "language": "python",
   "name": "python3"
  },
  "language_info": {
   "codemirror_mode": {
    "name": "ipython",
    "version": 3
   },
   "file_extension": ".py",
   "mimetype": "text/x-python",
   "name": "python",
   "nbconvert_exporter": "python",
   "pygments_lexer": "ipython3",
   "version": "3.11.5"
  }
 },
 "nbformat": 4,
 "nbformat_minor": 5
}
