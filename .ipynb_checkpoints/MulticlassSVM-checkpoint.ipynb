{
 "cells": [
  {
   "cell_type": "markdown",
   "id": "10b44585",
   "metadata": {},
   "source": [
    "# Multiclass SVM\n",
    "Unter der Verwendung des *One to Rest Approaches*\n",
    "\n",
    "https://www.baeldung.com/cs/svm-multiclass-classification"
   ]
  },
  {
   "cell_type": "code",
   "execution_count": 1,
   "id": "b2baa980",
   "metadata": {},
   "outputs": [],
   "source": [
    "import glob\n",
    "import os\n",
    "import cv2\n",
    "import numpy as np\n",
    "from sklearn.preprocessing import StandardScaler"
   ]
  },
  {
   "cell_type": "code",
   "execution_count": 2,
   "id": "6d71fd95",
   "metadata": {},
   "outputs": [],
   "source": [
    "def getAllData(data_type, dim, print_summary=False):\n",
    "    images = []\n",
    "    labels = []\n",
    "\n",
    "    # Basispfad für das Verzeichnis der Daten\n",
    "    base_path = \"frutis_360/fruits-360-original-size/fruits-360-original-size/\"\n",
    "\n",
    "    # Funktion, um alle Unterordner (Datenkategorien) zu erhalten\n",
    "    def get_categories(path):\n",
    "        return [d for d in os.listdir(path) if os.path.isdir(os.path.join(path, d))]\n",
    "\n",
    "    categories = get_categories(os.path.join(base_path, data_type))\n",
    "    total_images = 0  # Gesamtzahl der Bilder zählen\n",
    "\n",
    "    for i, category in enumerate(categories):\n",
    "        category_path = os.path.join(base_path, data_type, category)\n",
    "        for image_path in glob.glob(os.path.join(category_path, \"*.jpg\")):\n",
    "            image = cv2.imread(image_path, cv2.IMREAD_COLOR)\n",
    "            image = cv2.resize(image, (dim, dim))\n",
    "            image = cv2.cvtColor(image, cv2.COLOR_RGB2BGR)\n",
    "            images.append(image)\n",
    "            labels.append(i)\n",
    "            total_images += 1\n",
    "\n",
    "    if print_summary:\n",
    "        print(f\"Found {total_images} images belonging to {len(categories)} classes.\")\n",
    "\n",
    "    images = np.array(images)\n",
    "    labels = np.array(labels)\n",
    "    return images, labels"
   ]
  },
  {
   "cell_type": "code",
   "execution_count": 3,
   "id": "d443ca09",
   "metadata": {
    "scrolled": false
   },
   "outputs": [
    {
     "name": "stdout",
     "output_type": "stream",
     "text": [
      "Training: \n",
      "Found 6231 images belonging to 24 classes.\n",
      "Test: \n",
      "Found 3110 images belonging to 24 classes.\n"
     ]
    }
   ],
   "source": [
    "# Setzen Sie die Bildgröße fest\n",
    "dim = 100\n",
    "\n",
    "# Rufen Sie die Daten für Training und Test ab, mit der Zusammenfassung\n",
    "print(\"Training: \")\n",
    "X_train, y_train = getAllData('Training', dim, print_summary=True)\n",
    "print(\"Test: \")\n",
    "X_test, y_test = getAllData('Test', dim, print_summary=True)"
   ]
  },
  {
   "cell_type": "code",
   "execution_count": 4,
   "id": "297be5a5",
   "metadata": {},
   "outputs": [],
   "source": [
    "#Scale Data Images\n",
    "scaler = StandardScaler()\n",
    "X_train = scaler.fit_transform([i.flatten() for i in X_train])\n",
    "X_test = scaler.fit_transform([i.flatten() for i in X_test])"
   ]
  },
  {
   "cell_type": "markdown",
   "id": "7f1e7219",
   "metadata": {},
   "source": [
    "## SVM - One-to-Rest\n",
    "In the One-to-Rest approach, the classifier can use *m* SVMs. Each SVM would predict membership in one of the $m$ classes.\n",
    "\n",
    "In the One-to-One approach, the classifier can use: $\\frac{m (m-1)}{2}$ SVMs."
   ]
  },
  {
   "cell_type": "code",
   "execution_count": null,
   "id": "c31b7f6f",
   "metadata": {},
   "outputs": [],
   "source": [
    "from sklearn.svm import SVC\n",
    "from sklearn.model_selection import RandomizedSearchCV\n",
    "from sklearn.metrics import classification_report, accuracy_score, f1_score"
   ]
  },
  {
   "cell_type": "markdown",
   "id": "d9bf14e7",
   "metadata": {},
   "source": [
    "Initialisieren des SVM-Klassifikatoren:"
   ]
  },
  {
   "cell_type": "code",
   "execution_count": null,
   "id": "526856cd",
   "metadata": {},
   "outputs": [],
   "source": [
    "# Initialisieren des SVM-Klassifikators\n",
    "# Der Standardkernel ist 'rbf', aber Sie können ihn je nach Bedarf ändern\n",
    "svm_classifier = SVC(decision_function_shape='ovr')"
   ]
  },
  {
   "cell_type": "markdown",
   "id": "83267071",
   "metadata": {},
   "source": [
    "Definieren des Parameterbereich für die Grid-Suche:\n",
    "- **C**: Dies ist der Regularisierungsparameter. Der Wert von **C** gibt an, wie stark die Optimierung auf das Finden einer Entscheidungsgrenze mit kleinem Fehler auf den Trainingsdaten fokussieren soll. Ein kleiner Wert von **C** macht die Entscheidungsoberfläche glatt, während ein hoher Wert von **C** darauf abzielt, alle Trainingsdaten korrekt zu klassifizieren, indem er die Kosten für eine Fehlklassifizierung erhöht. Ein hoher Wert für **C** kann zu einem Overfitting führen, weil das Modell versucht, alle Trainingsproben korrekt zu klassifizieren. Ein niedrigerer Wert fördert eine größere Toleranz für Fehler und kann zu einem robusteren Modell führen, das besser generalisiert.\n",
    "- **gamma**: Der gamma-Parameter definiert, wie weit der Einfluss eines einzelnen Trainingsbeispiels reicht. Mit anderen Worten, er bestimmt die Krümmung der Entscheidungsgrenze. Wenn **gamma** groß ist, ist der Einfluss eines Trainingsbeispiels nur in seiner unmittelbaren Umgebung groß, was zu einer kurvigeren Entscheidungsgrenze führt. Ein kleiner **gamma**-Wert bedeutet, dass der Einfluss weit reicht, was zu einer glatteren Entscheidungsgrenze führt. Der **gamma**-Parameter ist nur für nichtlineare Kernel wie 'rbf', 'poly' und 'sigmoid' relevant."
   ]
  },
  {
   "cell_type": "code",
   "execution_count": null,
   "id": "4ffca0b0",
   "metadata": {},
   "outputs": [],
   "source": [
    "param_grid = {\n",
    "    'C': [0.1, 1, 10],  # Werte für den Regularisierungsparameter\n",
    "    'gamma': [1, 0.1, 0.01],  # Werte für den Gamma-Parameter (für nichtlineare Kerne)\n",
    "    'kernel': ['poly']  # Kernelvarianten\n",
    "}"
   ]
  },
  {
   "cell_type": "markdown",
   "id": "859783e3",
   "metadata": {},
   "source": [
    "Definieren des Parameterbereich für die Grid-Suche:\n",
    "\n",
    "\n",
    "- **param_grid** ist das Wörterbuch der Parameter, die Sie optimieren möchten.\n",
    "- **cv** steht für Cross-Validation. Sie können die Anzahl der Folds hier angeben.\n",
    "- **verbose** steuert die Ausgabe während der Suche (höhere Zahlen geben detailliertere Ausgaben)."
   ]
  },
  {
   "cell_type": "code",
   "execution_count": null,
   "id": "c8d2c1f3",
   "metadata": {},
   "outputs": [],
   "source": [
    "random_search = RandomizedSearchCV(svm_classifier, param_distributions=param_grid, n_iter=10, cv=3, verbose=2, random_state=42)"
   ]
  },
  {
   "cell_type": "markdown",
   "id": "c1cb72f7",
   "metadata": {},
   "source": [
    "Trainieren des Grid-Search-Modell mit den Trainingsdaten:"
   ]
  },
  {
   "cell_type": "code",
   "execution_count": null,
   "id": "dfe6db81",
   "metadata": {
    "scrolled": false
   },
   "outputs": [],
   "source": [
    "random_search.fit(X_train, y_train)"
   ]
  },
  {
   "cell_type": "code",
   "execution_count": null,
   "id": "eaaf3d85",
   "metadata": {},
   "outputs": [],
   "source": [
    "print(\"Beste Parameter:\", random_search.best_params_)\n",
    "best_model = random_search.best_estimator_"
   ]
  },
  {
   "cell_type": "code",
   "execution_count": null,
   "id": "be89f6ca",
   "metadata": {},
   "outputs": [],
   "source": [
    "y_pred = best_model.predict(X_test)\n",
    "test_accuracy = accuracy_score(y_test, y_pred)\n",
    "print(\"Testgenauigkeit:\", test_accuracy)"
   ]
  },
  {
   "cell_type": "code",
   "execution_count": null,
   "id": "a388072d",
   "metadata": {},
   "outputs": [],
   "source": [
    "print(\"Classification Report:\\n\", classification_report(y_test, y_pred))\n",
    "poly_accuracy = accuracy_score(y_test, y_pred)\n",
    "poly_f1 = f1_score(y_test, y_pred, average='weighted')\n",
    "print('Accuracy (Polynomial Kernel): {:.2f}%'.format(poly_accuracy*100))\n",
    "print('F1 (Polynomial Kernel): {:.2f}'.format(poly_f1*100))"
   ]
  },
  {
   "cell_type": "markdown",
   "id": "1b35f315",
   "metadata": {},
   "source": [
    "----"
   ]
  },
  {
   "cell_type": "markdown",
   "id": "1d1ed329",
   "metadata": {},
   "source": [
    "## Export the trained model"
   ]
  },
  {
   "cell_type": "code",
   "execution_count": 15,
   "id": "13f43d39",
   "metadata": {},
   "outputs": [],
   "source": [
    "from joblib import dump"
   ]
  },
  {
   "cell_type": "code",
   "execution_count": 16,
   "id": "36c18f45",
   "metadata": {
    "scrolled": true
   },
   "outputs": [
    {
     "data": {
      "text/plain": [
       "['svm_multi_classifier.joblib']"
      ]
     },
     "execution_count": 16,
     "metadata": {},
     "output_type": "execute_result"
    }
   ],
   "source": [
    "dump(best_model, 'svm_multi_classifier.joblib')"
   ]
  }
 ],
 "metadata": {
  "kernelspec": {
   "display_name": "Python 3 (ipykernel)",
   "language": "python",
   "name": "python3"
  },
  "language_info": {
   "codemirror_mode": {
    "name": "ipython",
    "version": 3
   },
   "file_extension": ".py",
   "mimetype": "text/x-python",
   "name": "python",
   "nbconvert_exporter": "python",
   "pygments_lexer": "ipython3",
   "version": "3.11.5"
  }
 },
 "nbformat": 4,
 "nbformat_minor": 5
}
