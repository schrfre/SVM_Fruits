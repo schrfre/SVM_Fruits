{
 "cells": [
  {
   "cell_type": "markdown",
   "id": "516174f3",
   "metadata": {},
   "source": [
    "# CNN-Fruchtklassifikator\n",
    "\n",
    "Dieses Notebook lädt ein trainiertes Convolutional Neural Network (CNN) und verwendet es, um Vorhersagen für neue, ungelabelte Bilder zu treffen. Die Bilder sollten im Format 100x100 Pixel vorliegen.\n"
   ]
  },
  {
   "cell_type": "code",
   "execution_count": 2,
   "id": "f7ed1390",
   "metadata": {},
   "outputs": [],
   "source": [
    "import numpy as np\n",
    "from tensorflow.keras.models import load_model\n",
    "from tensorflow.keras.preprocessing import image\n"
   ]
  },
  {
   "cell_type": "code",
   "execution_count": 3,
   "id": "c88c6cbe",
   "metadata": {},
   "outputs": [],
   "source": [
    "# Lade das trainierte Modell\n",
    "# Ersetzen Sie 'path/to/your/model.h5' mit dem tatsächlichen Pfad zu Ihrem Modell\n",
    "model_path = 'fruits_fresh_cnn_1.h5'\n",
    "model = load_model(model_path)\n"
   ]
  },
  {
   "cell_type": "code",
   "execution_count": 4,
   "id": "52c9404c",
   "metadata": {},
   "outputs": [],
   "source": [
    "# Funktion zum Vorbereiten eines Bildes\n",
    "def prepare_image(img_path):\n",
    "    img = image.load_img(img_path, target_size=(100, 100))  # Bildgröße anpassen\n",
    "    x = image.img_to_array(img)  # Bild in Array konvertieren\n",
    "    x = np.expand_dims(x, axis=0)  # Dimension für Batch hinzufügen\n",
    "    x = x / 255.0  # Normalisieren der Pixelwerte\n",
    "    return x\n"
   ]
  },
  {
   "cell_type": "code",
   "execution_count": 5,
   "id": "c6eb0814",
   "metadata": {},
   "outputs": [
    {
     "name": "stdout",
     "output_type": "stream",
     "text": [
      "1/1 [==============================] - 0s 47ms/step\n",
      "Vorhersage: [[2.4921491e-12 4.3973217e-38 0.0000000e+00 1.5192224e-22 2.6711412e-24\n",
      "  6.3809493e-17 2.5933823e-05 9.9997401e-01 4.9778494e-27 1.3338634e-29\n",
      "  9.4213209e-20 1.1656484e-18 0.0000000e+00 0.0000000e+00 3.5563543e-35\n",
      "  0.0000000e+00 0.0000000e+00 0.0000000e+00 3.7441473e-32 3.3960403e-17\n",
      "  7.9952773e-29 7.2471176e-21 6.5005460e-26 1.1065962e-22 0.0000000e+00\n",
      "  3.9507736e-34 1.6303776e-16 0.0000000e+00 1.2127717e-33 4.9306756e-13\n",
      "  0.0000000e+00 0.0000000e+00 3.6986121e-37 2.6340814e-35 6.5980750e-35\n",
      "  0.0000000e+00 2.2657211e-33 3.4191632e-11 0.0000000e+00 7.1371597e-35\n",
      "  3.7252400e-33 7.3672404e-32 4.5303339e-24 9.6256338e-34 3.5924630e-26\n",
      "  0.0000000e+00 4.2221098e-30 0.0000000e+00 1.7588797e-11 8.8816745e-17\n",
      "  5.0295792e-11 0.0000000e+00 1.2448492e-14 2.3663337e-12 3.8556463e-28\n",
      "  1.3764714e-23 0.0000000e+00 0.0000000e+00 0.0000000e+00 0.0000000e+00\n",
      "  0.0000000e+00 1.3343700e-10 1.7107251e-19 4.0298109e-30 2.9175711e-16\n",
      "  1.8704270e-10 0.0000000e+00 2.6683973e-27 1.4660920e-36 2.1152567e-31\n",
      "  1.0263471e-14 2.6054136e-25 6.9243970e-24 1.1232002e-36 2.4156271e-22\n",
      "  8.6842327e-34 7.1135872e-22 6.0699819e-25 5.4866966e-34 1.5307488e-19\n",
      "  5.9969166e-22]]\n"
     ]
    },
    {
     "name": "stderr",
     "output_type": "stream",
     "text": [
      "2024-01-21 10:57:30.103897: W tensorflow/tsl/platform/profile_utils/cpu_utils.cc:128] Failed to get CPU frequency: 0 Hz\n"
     ]
    }
   ],
   "source": [
    "# Bildpfad (ersetzen Sie diesen durch den Pfad zu Ihrem ungelabelten Bild)\n",
    "img_path = 'frutis_360/fruits-360_dataset/fruits-360/test_100_100/cocos.jpg'\n",
    "prepared_img = prepare_image(img_path)\n",
    "\n",
    "# Vorhersage für das Bild treffen\n",
    "prediction = model.predict(prepared_img)\n",
    "\n",
    "# Ergebnis anzeigen\n",
    "print(\"Vorhersage:\", prediction)\n"
   ]
  }
 ],
 "metadata": {
  "kernelspec": {
   "display_name": "Python 3 (ipykernel)",
   "language": "python",
   "name": "python3"
  },
  "language_info": {
   "codemirror_mode": {
    "name": "ipython",
    "version": 3
   },
   "file_extension": ".py",
   "mimetype": "text/x-python",
   "name": "python",
   "nbconvert_exporter": "python",
   "pygments_lexer": "ipython3",
   "version": "3.11.5"
  }
 },
 "nbformat": 4,
 "nbformat_minor": 5
}
