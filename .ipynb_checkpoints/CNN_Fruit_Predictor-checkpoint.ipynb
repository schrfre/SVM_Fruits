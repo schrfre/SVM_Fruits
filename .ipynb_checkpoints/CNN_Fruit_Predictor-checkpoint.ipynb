{
 "cells": [
  {
   "cell_type": "markdown",
   "id": "516174f3",
   "metadata": {},
   "source": [
    "# CNN-Fruchtklassifikator\n",
    "\n",
    "Dieses Notebook lädt ein trainiertes Convolutional Neural Network (CNN) und verwendet es, um Vorhersagen für neue, ungelabelte Bilder zu treffen. Die Bilder sollten im Format 100x100 Pixel vorliegen.\n"
   ]
  },
  {
   "cell_type": "code",
   "execution_count": 1,
   "id": "f7ed1390",
   "metadata": {},
   "outputs": [],
   "source": [
    "import numpy as np\n",
    "from tensorflow.keras.models import load_model\n",
    "from tensorflow.keras.preprocessing import image"
   ]
  },
  {
   "cell_type": "code",
   "execution_count": 2,
   "id": "c88c6cbe",
   "metadata": {},
   "outputs": [],
   "source": [
    "# Lade das trainierte Modell\n",
    "model_path = 'fruits_fresh_cnn_1.h5'\n",
    "model = load_model(model_path)"
   ]
  },
  {
   "cell_type": "code",
   "execution_count": 3,
   "id": "52c9404c",
   "metadata": {},
   "outputs": [],
   "source": [
    "# Funktion zum Vorbereiten eines Bildes\n",
    "def prepare_image(img_path):\n",
    "    img = image.load_img(img_path, target_size=(100, 100))  # Bildgröße anpassen\n",
    "    x = image.img_to_array(img)  # Bild in Array konvertieren\n",
    "    x = np.expand_dims(x, axis=0)  # Dimension für Batch hinzufügen\n",
    "    x = x / 255.0  # Normalisieren der Pixelwerte\n",
    "    return x"
   ]
  },
  {
   "cell_type": "code",
   "execution_count": 16,
   "id": "c6eb0814",
   "metadata": {
    "scrolled": false
   },
   "outputs": [
    {
     "name": "stdout",
     "output_type": "stream",
     "text": [
      "1/1 [==============================] - 0s 21ms/step\n",
      "Vorhersage: [[1.2756957e-15 1.0325343e-15 1.1295455e-13 8.2289776e-15 1.7807025e-13\n",
      "  1.5456491e-14 7.1960801e-16 1.1727840e-17 9.5254909e-06 8.6664785e-13\n",
      "  2.4487097e-14 1.0536764e-12 9.7974920e-01 1.6063582e-12 2.3128592e-09\n",
      "  3.0322642e-08 2.0096507e-12 4.7819804e-12 1.2719027e-12 1.0277912e-15\n",
      "  3.1369744e-11 2.0791488e-10 1.0443764e-12 9.4655712e-15 4.2620123e-14\n",
      "  2.7221450e-12 5.0954703e-09 5.1134625e-09 1.6774697e-10 1.3487034e-16\n",
      "  3.5787828e-10 6.9349711e-14 1.1261955e-10 1.1574528e-13 4.4361195e-15\n",
      "  5.7740559e-09 5.3106928e-09 4.9807205e-16 1.1235780e-10 2.7399808e-12\n",
      "  4.2710167e-12 4.6706095e-08 1.7977685e-10 1.4192951e-11 1.4689062e-06\n",
      "  1.2835167e-13 4.0369352e-05 1.9898236e-02 5.9581931e-14 2.1854094e-14\n",
      "  3.1805961e-17 3.0003404e-04 3.9419554e-15 2.4929421e-14 1.0275911e-15\n",
      "  1.3966088e-11 4.4223073e-11 7.0147559e-09 3.8722389e-13 2.5397016e-11\n",
      "  2.2811822e-10 2.1808441e-08 2.2911568e-12 6.5142627e-12 3.5509678e-13\n",
      "  1.3537526e-12 1.5044413e-12 7.4850294e-07 5.4943158e-11 6.2514046e-13\n",
      "  2.0167977e-15 3.1280376e-10 1.5567330e-13 4.4174182e-11 2.2569578e-15\n",
      "  7.2681797e-13 7.4319888e-16 4.6355365e-15 1.0169661e-12 4.1624656e-10\n",
      "  1.3371756e-07]]\n"
     ]
    }
   ],
   "source": [
    "# Avocado\n",
    "img_path = 'frutis_360/fruits-360_dataset/fruits-360/Validierung/151_100.jpg'\n",
    "\n",
    "# Apple Braeburn\n",
    "#img_path = 'frutis_360/fruits-360-original-size/fruits-360-original-size/Validation/apple_braeburn_1/r0_1.jpg'\n",
    "\n",
    "# Pear\n",
    "#img_path = 'frutis_360/fruits-360-original-size/fruits-360-original-size/Validation/pear_1/r0_21.jpg'\n",
    "\n",
    "# Apple hit 1\n",
    "#img_path = 'frutis_360/fruits-360-original-size/fruits-360-original-size/Validation/apple_hit_1/r0_141.jpg'\n",
    "\n",
    "prepared_img = prepare_image(img_path)\n",
    "\n",
    "# Vorhersage für das Bild treffen\n",
    "prediction = model.predict(prepared_img)\n",
    "\n",
    "# Ergebnis anzeigen\n",
    "print(\"Vorhersage:\", prediction)"
   ]
  },
  {
   "cell_type": "code",
   "execution_count": 17,
   "id": "f0cf887d",
   "metadata": {
    "scrolled": true
   },
   "outputs": [
    {
     "name": "stdout",
     "output_type": "stream",
     "text": [
      "Top 3 Vorhersagen:\n",
      "1: Klasse = Avocado ripe, Wahrscheinlichkeit = 0.9797492027282715\n",
      "2: Klasse = Mulberry, Wahrscheinlichkeit = 0.01989823579788208\n",
      "3: Klasse = Passion Fruit, Wahrscheinlichkeit = 0.0003000340366270393\n"
     ]
    }
   ],
   "source": [
    "# Top-3-Vorhersagen extrahieren\n",
    "top_indices = np.argsort(prediction[0])[-3:][::-1]\n",
    "top_probabilities = prediction[0][top_indices]\n",
    "\n",
    "class_names = [\n",
    "    \"Apple Braeburn\", \"Apple Golden 1\", \"Apple Golden 2\", \"Apple Golden 3\",\n",
    "    \"Apple Granny Smith\", \"Apple Red 1\", \"Apple Red 2\", \"Apple Red 3\",\n",
    "    \"Apple Red Delicious\", \"Apple Red Yellow\", \"Apricot\", \"Avocado\",\n",
    "    \"Avocado ripe\", \"Banana\", \"Banana Red\", \"Cactus fruit\", \"Cantaloupe 1\",\n",
    "    \"Cantaloupe 2\", \"Carambula\", \"Cherry 1\", \"Cherry 2\", \"Cherry Rainier\",\n",
    "    \"Cherry Wax Black\", \"Cherry Wax Red\", \"Cherry Wax Yellow\", \"Clementine\",\n",
    "    \"Cocos\", \"Dates\", \"Granadilla\", \"Grape Pink\", \"Grape White\",\n",
    "    \"Grape White 2\", \"Grapefruit Pink\", \"Grapefruit White\", \"Guava\",\n",
    "    \"Huckleberry\", \"Kaki\", \"Kiwi\", \"Kumquats\", \"Lemon\", \"Lemon Meyer\",\n",
    "    \"Limes\", \"Lychee\", \"Mandarine\", \"Mango\", \"Maracuja\", \"Melon Piel de Sapo\",\n",
    "    \"Mulberry\", \"Nectarine\", \"Orange\", \"Papaya\", \"Passion Fruit\", \"Peach\",\n",
    "    \"Peach Flat\", \"Pear\", \"Pear Abate\", \"Pear Monster\", \"Pear Williams\",\n",
    "    \"Pepino\", \"Physalis\", \"Physalis with Husk\", \"Pineapple\", \"Pineapple Mini\",\n",
    "    \"Pitahaya Red\", \"Plum\", \"Pomegranate\", \"Quince\", \"Rambutan\", \"Raspberry\",\n",
    "    \"Salak\", \"Strawberry\", \"Strawberry Wedge\", \"Tamarillo\", \"Tangelo\",\n",
    "    \"Tomato 1\", \"Tomato 2\", \"Tomato 3\", \"Tomato 4\", \"Tomato Cherry Red\",\n",
    "    \"Tomato Maroon\", \"Walnut\"\n",
    "]\n",
    "\n",
    "\n",
    "# Anzeigen der Top-3-Vorhersagen\n",
    "print(\"Top 3 Vorhersagen:\")\n",
    "for i, idx in enumerate(top_indices):\n",
    "    print(f\"{i+1}: Klasse = {class_names[idx]}, Wahrscheinlichkeit = {top_probabilities[i]}\")"
   ]
  }
 ],
 "metadata": {
  "kernelspec": {
   "display_name": "Python 3 (ipykernel)",
   "language": "python",
   "name": "python3"
  },
  "language_info": {
   "codemirror_mode": {
    "name": "ipython",
    "version": 3
   },
   "file_extension": ".py",
   "mimetype": "text/x-python",
   "name": "python",
   "nbconvert_exporter": "python",
   "pygments_lexer": "ipython3",
   "version": "3.11.5"
  }
 },
 "nbformat": 4,
 "nbformat_minor": 5
}
