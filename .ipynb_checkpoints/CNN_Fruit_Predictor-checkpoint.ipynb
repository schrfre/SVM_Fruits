{
 "cells": [
  {
   "cell_type": "markdown",
   "id": "516174f3",
   "metadata": {},
   "source": [
    "# CNN-Fruchtklassifikator\n",
    "\n",
    "Dieses Notebook lädt ein trainiertes Convolutional Neural Network (CNN) und verwendet es, um Vorhersagen für neue, ungelabelte Bilder zu treffen. Die Bilder sollten im Format 100x100 Pixel vorliegen.\n"
   ]
  },
  {
   "cell_type": "code",
   "execution_count": 1,
   "id": "f7ed1390",
   "metadata": {},
   "outputs": [],
   "source": [
    "import numpy as np\n",
    "from tensorflow.keras.models import load_model\n",
    "from tensorflow.keras.preprocessing import image"
   ]
  },
  {
   "cell_type": "code",
   "execution_count": 2,
   "id": "c88c6cbe",
   "metadata": {},
   "outputs": [],
   "source": [
    "# Lade das trainierte Modell\n",
    "model_path = 'fruits_fresh_cnn_1.h5'\n",
    "model = load_model(model_path)"
   ]
  },
  {
   "cell_type": "code",
   "execution_count": 3,
   "id": "52c9404c",
   "metadata": {},
   "outputs": [],
   "source": [
    "# Funktion zum Vorbereiten eines Bildes\n",
    "def prepare_image(img_path):\n",
    "    img = image.load_img(img_path, target_size=(100, 100))  # Bildgröße anpassen\n",
    "    x = image.img_to_array(img)  # Bild in Array konvertieren\n",
    "    x = np.expand_dims(x, axis=0)  # Dimension für Batch hinzufügen\n",
    "    x = x / 255.0  # Normalisieren der Pixelwerte\n",
    "    return x"
   ]
  },
  {
   "cell_type": "code",
   "execution_count": 26,
   "id": "c6eb0814",
   "metadata": {
    "scrolled": false
   },
   "outputs": [
    {
     "name": "stdout",
     "output_type": "stream",
     "text": [
      "1/1 [==============================] - 0s 19ms/step\n",
      "Vorhersage: [[3.59463593e-06 1.75004833e-14 6.47711743e-21 4.18261897e-10\n",
      "  4.28457111e-16 3.51883757e-12 3.13749462e-01 1.01593668e-02\n",
      "  2.64767308e-25 2.64723075e-16 1.26640618e-08 3.33023680e-18\n",
      "  0.00000000e+00 3.31402012e-23 1.71996744e-22 2.42101077e-24\n",
      "  1.03232659e-29 5.82682555e-26 3.81415862e-12 1.09035123e-12\n",
      "  2.03582611e-18 2.09910460e-18 3.53329285e-22 5.75324836e-13\n",
      "  9.10842047e-20 5.75883400e-25 2.56095097e-18 6.96846442e-30\n",
      "  1.88913842e-28 2.75473925e-04 3.39588085e-33 1.36937357e-31\n",
      "  4.93613823e-32 2.29544647e-18 1.30959612e-14 9.35432103e-33\n",
      "  2.60499780e-30 4.23067195e-06 1.20707548e-33 3.56856106e-17\n",
      "  5.74789148e-22 2.55628080e-29 1.46183009e-21 1.45077342e-23\n",
      "  2.99396114e-27 2.65297078e-25 8.79816028e-28 0.00000000e+00\n",
      "  7.84547041e-08 1.41902197e-08 6.75496578e-01 1.19590416e-36\n",
      "  3.12530062e-07 3.08196235e-04 5.94894489e-09 1.96328346e-14\n",
      "  1.47467588e-32 1.76005345e-26 2.38593200e-17 5.57032625e-29\n",
      "  1.20149553e-30 6.88729835e-17 1.11020125e-16 5.09771409e-22\n",
      "  7.27849736e-15 3.89613533e-08 2.60284064e-24 3.38608644e-27\n",
      "  1.86443730e-30 4.82448209e-16 2.73724322e-06 1.46542378e-16\n",
      "  1.57385035e-16 3.02186651e-27 1.17378365e-08 8.54494630e-15\n",
      "  9.79457515e-10 1.24208491e-11 5.73242658e-24 1.06431024e-18\n",
      "  1.41028034e-22]]\n"
     ]
    }
   ],
   "source": [
    "# Pomgegrade\n",
    "#img_path = 'frutis_360/fruits-360_dataset/fruits-360/test_100_100/pomegranate.jpg'\n",
    "\n",
    "# Avocado \n",
    "#img_path = 'frutis_360/fruits-360_dataset/fruits-360/Validierung/151_100.jpg'\n",
    "\n",
    "# Apple Braeburn\n",
    "#img_path = 'frutis_360/fruits-360-original-size/fruits-360-original-size/Validation/apple_braeburn_1/r0_1.jpg'\n",
    "\n",
    "# Pear\n",
    "#img_path = 'frutis_360/fruits-360-original-size/fruits-360-original-size/Validation/pear_1/r0_21.jpg'\n",
    "\n",
    "# Apple hit 1\n",
    "img_path = 'frutis_360/fruits-360-original-size/fruits-360-original-size/Validation/apple_hit_1/r0_141.jpg'\n",
    "\n",
    "prepared_img = prepare_image(img_path)\n",
    "\n",
    "# Vorhersage für das Bild treffen\n",
    "prediction = model.predict(prepared_img)\n",
    "\n",
    "# Ergebnis anzeigen\n",
    "print(\"Vorhersage:\", prediction)"
   ]
  },
  {
   "cell_type": "code",
   "execution_count": 27,
   "id": "f0cf887d",
   "metadata": {
    "scrolled": true
   },
   "outputs": [
    {
     "name": "stdout",
     "output_type": "stream",
     "text": [
      "Top 3 Vorhersagen:\n",
      "1: Klasse = Papaya, Wahrscheinlichkeit = 0.6754965782165527\n",
      "2: Klasse = Apple Red 2, Wahrscheinlichkeit = 0.3137494623661041\n",
      "3: Klasse = Apple Red 3, Wahrscheinlichkeit = 0.010159366764128208\n"
     ]
    }
   ],
   "source": [
    "# Top-3-Vorhersagen extrahieren\n",
    "top_indices = np.argsort(prediction[0])[-3:][::-1]\n",
    "top_probabilities = prediction[0][top_indices]\n",
    "\n",
    "class_names = [\n",
    "    \"Apple Braeburn\", \"Apple Golden 1\", \"Apple Golden 2\", \"Apple Golden 3\",\n",
    "    \"Apple Granny Smith\", \"Apple Red 1\", \"Apple Red 2\", \"Apple Red 3\",\n",
    "    \"Apple Red Delicious\", \"Apple Red Yellow\", \"Apricot\", \"Avocado\",\n",
    "    \"Avocado ripe\", \"Banana\", \"Banana Red\", \"Cactus fruit\", \"Cantaloupe 1\",\n",
    "    \"Cantaloupe 2\", \"Carambula\", \"Cherry 1\", \"Cherry 2\", \"Cherry Rainier\",\n",
    "    \"Cherry Wax Black\", \"Cherry Wax Red\", \"Cherry Wax Yellow\", \"Clementine\",\n",
    "    \"Cocos\", \"Dates\", \"Granadilla\", \"Grape Pink\", \"Grape White\",\n",
    "    \"Grape White 2\", \"Grapefruit Pink\", \"Grapefruit White\", \"Guava\",\n",
    "    \"Huckleberry\", \"Kaki\", \"Kiwi\", \"Kumquats\", \"Lemon\", \"Lemon Meyer\",\n",
    "    \"Limes\", \"Lychee\", \"Mandarine\", \"Mango\", \"Maracuja\", \"Melon Piel de Sapo\",\n",
    "    \"Mulberry\", \"Nectarine\", \"Orange\", \"Papaya\", \"Passion Fruit\", \"Peach\",\n",
    "    \"Peach Flat\", \"Pear\", \"Pear Abate\", \"Pear Monster\", \"Pear Williams\",\n",
    "    \"Pepino\", \"Physalis\", \"Physalis with Husk\", \"Pineapple\", \"Pineapple Mini\",\n",
    "    \"Pitahaya Red\", \"Plum\", \"Pomegranate\", \"Quince\", \"Rambutan\", \"Raspberry\",\n",
    "    \"Salak\", \"Strawberry\", \"Strawberry Wedge\", \"Tamarillo\", \"Tangelo\",\n",
    "    \"Tomato 1\", \"Tomato 2\", \"Tomato 3\", \"Tomato 4\", \"Tomato Cherry Red\",\n",
    "    \"Tomato Maroon\", \"Walnut\"\n",
    "]\n",
    "\n",
    "\n",
    "# Anzeigen der Top-3-Vorhersagen\n",
    "print(\"Top 3 Vorhersagen:\")\n",
    "for i, idx in enumerate(top_indices):\n",
    "    print(f\"{i+1}: Klasse = {class_names[idx]}, Wahrscheinlichkeit = {top_probabilities[i]}\")"
   ]
  }
 ],
 "metadata": {
  "kernelspec": {
   "display_name": "Python 3 (ipykernel)",
   "language": "python",
   "name": "python3"
  },
  "language_info": {
   "codemirror_mode": {
    "name": "ipython",
    "version": 3
   },
   "file_extension": ".py",
   "mimetype": "text/x-python",
   "name": "python",
   "nbconvert_exporter": "python",
   "pygments_lexer": "ipython3",
   "version": "3.11.5"
  }
 },
 "nbformat": 4,
 "nbformat_minor": 5
}
