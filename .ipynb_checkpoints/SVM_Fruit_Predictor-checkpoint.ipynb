{
 "cells": [
  {
   "cell_type": "markdown",
   "id": "516174f3",
   "metadata": {},
   "source": [
    "# SVM-Fruchtklassifikator\n",
    "\n",
    "Dieses Notebook lädt ein trainiertes Convolutional Neural Network (CNN) und verwendet es, um Vorhersagen für neue, ungelabelte Bilder zu treffen. Die Bilder sollten im Format 100x100 Pixel vorliegen.\n"
   ]
  },
  {
   "cell_type": "code",
   "execution_count": 15,
   "id": "f7ed1390",
   "metadata": {},
   "outputs": [],
   "source": [
    "# Importieren der notwendigen Bibliotheken für das SVM-Modell\n",
    "from joblib import load\n",
    "import cv2\n",
    "import numpy as np\n",
    "\n",
    "# Laden des trainierten SVM-Modells\n",
    "model_path = 'svm_multi_classifier.joblib'\n",
    "model = load(model_path)"
   ]
  },
  {
   "cell_type": "code",
   "execution_count": 16,
   "id": "52c9404c",
   "metadata": {},
   "outputs": [],
   "source": [
    "# Funktion zum Vorbereiten eines Bildes für das SVM-Modell\n",
    "def prepare_image(img_path, dim=100):\n",
    "    # Bild laden und Größe ändern\n",
    "    image = cv2.imread(img_path, cv2.IMREAD_COLOR)\n",
    "    image = cv2.resize(image, (dim, dim))\n",
    "    # Konvertieren von RGB zu BGR, da OpenCV BGR verwendet\n",
    "    image = cv2.cvtColor(image, cv2.COLOR_RGB2BGR)\n",
    "    # Umformen in ein 1D-Array für das SVM-Modell\n",
    "    return image.reshape(1, -1)"
   ]
  },
  {
   "cell_type": "code",
   "execution_count": 21,
   "id": "c6eb0814",
   "metadata": {},
   "outputs": [
    {
     "name": "stdout",
     "output_type": "stream",
     "text": [
      "Vorhersageklasse: 12\n"
     ]
    }
   ],
   "source": [
    "# Pomgegrade\n",
    "#img_path = 'frutis_360/fruits-360_dataset/fruits-360/test_100_100/pomegranate.jpg'\n",
    "\n",
    "# Avocado \n",
    "img_path = 'frutis_360/fruits-360_dataset/fruits-360/Validierung/151_100.jpg'\n",
    "\n",
    "# Apple Braeburn\n",
    "#img_path = 'frutis_360/fruits-360-original-size/fruits-360-original-size/Validation/apple_braeburn_1/r0_1.jpg'\n",
    "\n",
    "# Pear\n",
    "#img_path = 'frutis_360/fruits-360-original-size/fruits-360-original-size/Validation/pear_1/r0_21.jpg'\n",
    "\n",
    "# Apple hit 1\n",
    "#img_path = 'frutis_360/fruits-360-original-size/fruits-360-original-size/Validation/apple_hit_1/r0_141.jpg'\n",
    "\n",
    "\n",
    "# Vorhersage mit dem SVM-Modell\n",
    "prepared_image = prepare_image(img_path)\n",
    "prediction = model.predict(prepared_image)\n",
    "print(\"Vorhersageklasse:\", prediction[0])"
   ]
  }
 ],
 "metadata": {
  "kernelspec": {
   "display_name": "Python 3 (ipykernel)",
   "language": "python",
   "name": "python3"
  },
  "language_info": {
   "codemirror_mode": {
    "name": "ipython",
    "version": 3
   },
   "file_extension": ".py",
   "mimetype": "text/x-python",
   "name": "python",
   "nbconvert_exporter": "python",
   "pygments_lexer": "ipython3",
   "version": "3.11.5"
  }
 },
 "nbformat": 4,
 "nbformat_minor": 5
}
